{
 "cells": [
  {
   "cell_type": "markdown",
   "metadata": {
    "id": "u8D79SIbjwXu"
   },
   "source": [
    "# House Prediction Regression pipeline with ZenML"
   ]
  },
  {
   "cell_type": "markdown",
   "metadata": {
    "id": "ULZl369YkFZm"
   },
   "source": [
    "ZenML Installation:"
   ]
  },
  {
   "cell_type": "code",
   "execution_count": 8,
   "metadata": {
    "colab": {
     "base_uri": "https://localhost:8080/"
    },
    "id": "SW7sZy_zjx2P",
    "outputId": "86cda993-11a5-4454-8d69-9fd303fb5604"
   },
   "outputs": [
    {
     "name": "stdout",
     "output_type": "stream",
     "text": [
      "Looking in indexes: https://pypi.org/simple, https://us-python.pkg.dev/colab-wheels/public/simple/\n",
      "Requirement already satisfied: zenml in /usr/local/lib/python3.7/dist-packages (0.13.0)\n",
      "Requirement already satisfied: ml-pipelines-sdk==1.8.0 in /usr/local/lib/python3.7/dist-packages (from zenml) (1.8.0)\n",
      "Requirement already satisfied: httplib2<0.20,>=0.19.1 in /usr/local/lib/python3.7/dist-packages (from zenml) (0.19.1)\n",
      "Requirement already satisfied: markupsafe==1.1.1 in /usr/local/lib/python3.7/dist-packages (from zenml) (1.1.1)\n",
      "Requirement already satisfied: sqlmodel<0.1.0,>=0.0.6 in /usr/local/lib/python3.7/dist-packages (from zenml) (0.0.6)\n",
      "Requirement already satisfied: rich[jupyter]<13.0.0,>=12.0.0 in /usr/local/lib/python3.7/dist-packages (from zenml) (12.5.1)\n",
      "Requirement already satisfied: analytics-python<2.0.0,>=1.4.0 in /usr/local/lib/python3.7/dist-packages (from zenml) (1.4.0)\n",
      "Requirement already satisfied: gitpython<4.0.0,>=3.1.18 in /usr/local/lib/python3.7/dist-packages (from zenml) (3.1.27)\n",
      "Requirement already satisfied: click-params<0.4.0,>=0.3.0 in /usr/local/lib/python3.7/dist-packages (from zenml) (0.3.0)\n",
      "Requirement already satisfied: nbconvert==6.4.4 in /usr/local/lib/python3.7/dist-packages (from zenml) (6.4.4)\n",
      "Requirement already satisfied: pandas<2.0.0,>=1.1.5 in /usr/local/lib/python3.7/dist-packages (from zenml) (1.3.5)\n",
      "Requirement already satisfied: apache-beam<3.0.0,>=2.30.0 in /usr/local/lib/python3.7/dist-packages (from zenml) (2.41.0)\n",
      "Requirement already satisfied: distro<2.0.0,>=1.6.0 in /usr/local/lib/python3.7/dist-packages (from zenml) (1.7.0)\n",
      "Requirement already satisfied: pydantic<2.0.0,>=1.9.0 in /usr/local/lib/python3.7/dist-packages (from zenml) (1.9.2)\n",
      "Requirement already satisfied: pyparsing<3,>=2.4.0 in /usr/local/lib/python3.7/dist-packages (from zenml) (2.4.2)\n",
      "Requirement already satisfied: pyyaml<6.0.0,>=5.4.1 in /usr/local/lib/python3.7/dist-packages (from zenml) (5.4.1)\n",
      "Requirement already satisfied: click<9.0.0,>=8.0.1 in /usr/local/lib/python3.7/dist-packages (from zenml) (8.1.3)\n",
      "Requirement already satisfied: python-dateutil<3.0.0,>=2.8.1 in /usr/local/lib/python3.7/dist-packages (from zenml) (2.8.2)\n",
      "Requirement already satisfied: ml-metadata<1.9.0,>=1.8.0 in /usr/local/lib/python3.7/dist-packages (from ml-pipelines-sdk==1.8.0->zenml) (1.8.0)\n",
      "Requirement already satisfied: packaging<21,>=20 in /usr/local/lib/python3.7/dist-packages (from ml-pipelines-sdk==1.8.0->zenml) (20.9)\n",
      "Requirement already satisfied: jinja2<4,>=2.7.3 in /usr/local/lib/python3.7/dist-packages (from ml-pipelines-sdk==1.8.0->zenml) (2.11.3)\n",
      "Requirement already satisfied: absl-py<2.0.0,>=0.9 in /usr/local/lib/python3.7/dist-packages (from ml-pipelines-sdk==1.8.0->zenml) (1.2.0)\n",
      "Requirement already satisfied: protobuf<4,>=3.13 in /usr/local/lib/python3.7/dist-packages (from ml-pipelines-sdk==1.8.0->zenml) (3.20.1)\n",
      "Requirement already satisfied: google-api-python-client<2,>=1.8 in /usr/local/lib/python3.7/dist-packages (from ml-pipelines-sdk==1.8.0->zenml) (1.12.11)\n",
      "Requirement already satisfied: google-apitools<1,>=0.5 in /usr/local/lib/python3.7/dist-packages (from ml-pipelines-sdk==1.8.0->zenml) (0.5.32)\n",
      "Requirement already satisfied: docker<5,>=4.1 in /usr/local/lib/python3.7/dist-packages (from ml-pipelines-sdk==1.8.0->zenml) (4.4.4)\n",
      "Requirement already satisfied: portpicker<2,>=1.3.1 in /usr/local/lib/python3.7/dist-packages (from ml-pipelines-sdk==1.8.0->zenml) (1.3.9)\n",
      "Requirement already satisfied: pandocfilters>=1.4.1 in /usr/local/lib/python3.7/dist-packages (from nbconvert==6.4.4->zenml) (1.5.0)\n",
      "Requirement already satisfied: mistune<2,>=0.8.1 in /usr/local/lib/python3.7/dist-packages (from nbconvert==6.4.4->zenml) (0.8.4)\n",
      "Requirement already satisfied: beautifulsoup4 in /usr/local/lib/python3.7/dist-packages (from nbconvert==6.4.4->zenml) (4.6.3)\n",
      "Requirement already satisfied: testpath in /usr/local/lib/python3.7/dist-packages (from nbconvert==6.4.4->zenml) (0.6.0)\n",
      "Requirement already satisfied: nbformat>=4.4 in /usr/local/lib/python3.7/dist-packages (from nbconvert==6.4.4->zenml) (5.4.0)\n",
      "Requirement already satisfied: nbclient<0.6.0,>=0.5.0 in /usr/local/lib/python3.7/dist-packages (from nbconvert==6.4.4->zenml) (0.5.13)\n",
      "Requirement already satisfied: pygments>=2.4.1 in /usr/local/lib/python3.7/dist-packages (from nbconvert==6.4.4->zenml) (2.6.1)\n",
      "Requirement already satisfied: traitlets>=5.0 in /usr/local/lib/python3.7/dist-packages (from nbconvert==6.4.4->zenml) (5.1.1)\n",
      "Requirement already satisfied: jupyter-core in /usr/local/lib/python3.7/dist-packages (from nbconvert==6.4.4->zenml) (4.11.1)\n",
      "Requirement already satisfied: jupyterlab-pygments in /usr/local/lib/python3.7/dist-packages (from nbconvert==6.4.4->zenml) (0.2.2)\n",
      "Requirement already satisfied: entrypoints>=0.2.2 in /usr/local/lib/python3.7/dist-packages (from nbconvert==6.4.4->zenml) (0.4)\n",
      "Requirement already satisfied: bleach in /usr/local/lib/python3.7/dist-packages (from nbconvert==6.4.4->zenml) (5.0.1)\n",
      "Requirement already satisfied: defusedxml in /usr/local/lib/python3.7/dist-packages (from nbconvert==6.4.4->zenml) (0.7.1)\n",
      "Requirement already satisfied: monotonic>=1.5 in /usr/local/lib/python3.7/dist-packages (from analytics-python<2.0.0,>=1.4.0->zenml) (1.6)\n",
      "Requirement already satisfied: backoff==1.10.0 in /usr/local/lib/python3.7/dist-packages (from analytics-python<2.0.0,>=1.4.0->zenml) (1.10.0)\n",
      "Requirement already satisfied: requests<3.0,>=2.7 in /usr/local/lib/python3.7/dist-packages (from analytics-python<2.0.0,>=1.4.0->zenml) (2.28.1)\n",
      "Requirement already satisfied: six>=1.5 in /usr/local/lib/python3.7/dist-packages (from analytics-python<2.0.0,>=1.4.0->zenml) (1.15.0)\n",
      "Requirement already satisfied: grpcio<2,>=1.33.1 in /usr/local/lib/python3.7/dist-packages (from apache-beam<3.0.0,>=2.30.0->zenml) (1.47.0)\n",
      "Requirement already satisfied: numpy<1.23.0,>=1.14.3 in /usr/local/lib/python3.7/dist-packages (from apache-beam<3.0.0,>=2.30.0->zenml) (1.21.6)\n",
      "Requirement already satisfied: proto-plus<2,>=1.7.1 in /usr/local/lib/python3.7/dist-packages (from apache-beam<3.0.0,>=2.30.0->zenml) (1.22.0)\n",
      "Requirement already satisfied: pydot<2,>=1.2.0 in /usr/local/lib/python3.7/dist-packages (from apache-beam<3.0.0,>=2.30.0->zenml) (1.3.0)\n",
      "Requirement already satisfied: cloudpickle<3,>=2.1.0 in /usr/local/lib/python3.7/dist-packages (from apache-beam<3.0.0,>=2.30.0->zenml) (2.1.0)\n",
      "Requirement already satisfied: dill<0.3.2,>=0.3.1.1 in /usr/local/lib/python3.7/dist-packages (from apache-beam<3.0.0,>=2.30.0->zenml) (0.3.1.1)\n",
      "Requirement already satisfied: pymongo<4.0.0,>=3.8.0 in /usr/local/lib/python3.7/dist-packages (from apache-beam<3.0.0,>=2.30.0->zenml) (3.12.3)\n",
      "Requirement already satisfied: pyarrow<8.0.0,>=0.15.1 in /usr/local/lib/python3.7/dist-packages (from apache-beam<3.0.0,>=2.30.0->zenml) (6.0.1)\n",
      "Requirement already satisfied: pytz>=2018.3 in /usr/local/lib/python3.7/dist-packages (from apache-beam<3.0.0,>=2.30.0->zenml) (2022.2.1)\n",
      "Requirement already satisfied: hdfs<3.0.0,>=2.1.0 in /usr/local/lib/python3.7/dist-packages (from apache-beam<3.0.0,>=2.30.0->zenml) (2.7.0)\n",
      "Requirement already satisfied: orjson<4.0 in /usr/local/lib/python3.7/dist-packages (from apache-beam<3.0.0,>=2.30.0->zenml) (3.7.12)\n",
      "Requirement already satisfied: fastavro<2,>=0.23.6 in /usr/local/lib/python3.7/dist-packages (from apache-beam<3.0.0,>=2.30.0->zenml) (1.6.0)\n",
      "Requirement already satisfied: typing-extensions>=3.7.0 in /usr/local/lib/python3.7/dist-packages (from apache-beam<3.0.0,>=2.30.0->zenml) (4.1.1)\n",
      "Requirement already satisfied: crcmod<2.0,>=1.7 in /usr/local/lib/python3.7/dist-packages (from apache-beam<3.0.0,>=2.30.0->zenml) (1.7)\n",
      "Requirement already satisfied: importlib-metadata in /usr/local/lib/python3.7/dist-packages (from click<9.0.0,>=8.0.1->zenml) (4.12.0)\n",
      "Requirement already satisfied: validators<0.19,>=0.18 in /usr/local/lib/python3.7/dist-packages (from click-params<0.4.0,>=0.3.0->zenml) (0.18.2)\n",
      "Requirement already satisfied: websocket-client>=0.32.0 in /usr/local/lib/python3.7/dist-packages (from docker<5,>=4.1->ml-pipelines-sdk==1.8.0->zenml) (1.4.0)\n",
      "Requirement already satisfied: gitdb<5,>=4.0.1 in /usr/local/lib/python3.7/dist-packages (from gitpython<4.0.0,>=3.1.18->zenml) (4.0.9)\n",
      "Requirement already satisfied: smmap<6,>=3.0.1 in /usr/local/lib/python3.7/dist-packages (from gitdb<5,>=4.0.1->gitpython<4.0.0,>=3.1.18->zenml) (5.0.0)\n",
      "Requirement already satisfied: uritemplate<4dev,>=3.0.0 in /usr/local/lib/python3.7/dist-packages (from google-api-python-client<2,>=1.8->ml-pipelines-sdk==1.8.0->zenml) (3.0.1)\n",
      "Requirement already satisfied: google-api-core<3dev,>=1.21.0 in /usr/local/lib/python3.7/dist-packages (from google-api-python-client<2,>=1.8->ml-pipelines-sdk==1.8.0->zenml) (1.31.6)\n",
      "Requirement already satisfied: google-auth<3dev,>=1.16.0 in /usr/local/lib/python3.7/dist-packages (from google-api-python-client<2,>=1.8->ml-pipelines-sdk==1.8.0->zenml) (1.35.0)\n",
      "Requirement already satisfied: google-auth-httplib2>=0.0.3 in /usr/local/lib/python3.7/dist-packages (from google-api-python-client<2,>=1.8->ml-pipelines-sdk==1.8.0->zenml) (0.0.4)\n",
      "Requirement already satisfied: googleapis-common-protos<2.0dev,>=1.6.0 in /usr/local/lib/python3.7/dist-packages (from google-api-core<3dev,>=1.21.0->google-api-python-client<2,>=1.8->ml-pipelines-sdk==1.8.0->zenml) (1.56.4)\n",
      "Requirement already satisfied: setuptools>=40.3.0 in /usr/local/lib/python3.7/dist-packages (from google-api-core<3dev,>=1.21.0->google-api-python-client<2,>=1.8->ml-pipelines-sdk==1.8.0->zenml) (57.4.0)\n",
      "Requirement already satisfied: oauth2client>=1.4.12 in /usr/local/lib/python3.7/dist-packages (from google-apitools<1,>=0.5->ml-pipelines-sdk==1.8.0->zenml) (4.1.3)\n",
      "Requirement already satisfied: fasteners>=0.14 in /usr/local/lib/python3.7/dist-packages (from google-apitools<1,>=0.5->ml-pipelines-sdk==1.8.0->zenml) (0.17.3)\n",
      "Requirement already satisfied: pyasn1-modules>=0.2.1 in /usr/local/lib/python3.7/dist-packages (from google-auth<3dev,>=1.16.0->google-api-python-client<2,>=1.8->ml-pipelines-sdk==1.8.0->zenml) (0.2.8)\n",
      "Requirement already satisfied: cachetools<5.0,>=2.0.0 in /usr/local/lib/python3.7/dist-packages (from google-auth<3dev,>=1.16.0->google-api-python-client<2,>=1.8->ml-pipelines-sdk==1.8.0->zenml) (4.2.4)\n",
      "Requirement already satisfied: rsa<5,>=3.1.4 in /usr/local/lib/python3.7/dist-packages (from google-auth<3dev,>=1.16.0->google-api-python-client<2,>=1.8->ml-pipelines-sdk==1.8.0->zenml) (4.9)\n",
      "Requirement already satisfied: docopt in /usr/local/lib/python3.7/dist-packages (from hdfs<3.0.0,>=2.1.0->apache-beam<3.0.0,>=2.30.0->zenml) (0.6.2)\n",
      "Requirement already satisfied: attrs<21,>=20.3 in /usr/local/lib/python3.7/dist-packages (from ml-metadata<1.9.0,>=1.8.0->ml-pipelines-sdk==1.8.0->zenml) (20.3.0)\n",
      "Requirement already satisfied: nest-asyncio in /usr/local/lib/python3.7/dist-packages (from nbclient<0.6.0,>=0.5.0->nbconvert==6.4.4->zenml) (1.5.5)\n",
      "Requirement already satisfied: jupyter-client>=6.1.5 in /usr/local/lib/python3.7/dist-packages (from nbclient<0.6.0,>=0.5.0->nbconvert==6.4.4->zenml) (6.1.12)\n",
      "Requirement already satisfied: pyzmq>=13 in /usr/local/lib/python3.7/dist-packages (from jupyter-client>=6.1.5->nbclient<0.6.0,>=0.5.0->nbconvert==6.4.4->zenml) (23.2.1)\n",
      "Requirement already satisfied: tornado>=4.1 in /usr/local/lib/python3.7/dist-packages (from jupyter-client>=6.1.5->nbclient<0.6.0,>=0.5.0->nbconvert==6.4.4->zenml) (5.1.1)\n",
      "Requirement already satisfied: jsonschema>=2.6 in /usr/local/lib/python3.7/dist-packages (from nbformat>=4.4->nbconvert==6.4.4->zenml) (4.3.3)\n",
      "Requirement already satisfied: fastjsonschema in /usr/local/lib/python3.7/dist-packages (from nbformat>=4.4->nbconvert==6.4.4->zenml) (2.16.1)\n",
      "Requirement already satisfied: importlib-resources>=1.4.0 in /usr/local/lib/python3.7/dist-packages (from jsonschema>=2.6->nbformat>=4.4->nbconvert==6.4.4->zenml) (5.9.0)\n",
      "Requirement already satisfied: pyrsistent!=0.17.0,!=0.17.1,!=0.17.2,>=0.14.0 in /usr/local/lib/python3.7/dist-packages (from jsonschema>=2.6->nbformat>=4.4->nbconvert==6.4.4->zenml) (0.18.1)\n",
      "Requirement already satisfied: zipp>=3.1.0 in /usr/local/lib/python3.7/dist-packages (from importlib-resources>=1.4.0->jsonschema>=2.6->nbformat>=4.4->nbconvert==6.4.4->zenml) (3.8.1)\n",
      "Requirement already satisfied: pyasn1>=0.1.7 in /usr/local/lib/python3.7/dist-packages (from oauth2client>=1.4.12->google-apitools<1,>=0.5->ml-pipelines-sdk==1.8.0->zenml) (0.4.8)\n",
      "Requirement already satisfied: idna<4,>=2.5 in /usr/local/lib/python3.7/dist-packages (from requests<3.0,>=2.7->analytics-python<2.0.0,>=1.4.0->zenml) (2.10)\n",
      "Requirement already satisfied: certifi>=2017.4.17 in /usr/local/lib/python3.7/dist-packages (from requests<3.0,>=2.7->analytics-python<2.0.0,>=1.4.0->zenml) (2022.6.15)\n",
      "Requirement already satisfied: urllib3<1.27,>=1.21.1 in /usr/local/lib/python3.7/dist-packages (from requests<3.0,>=2.7->analytics-python<2.0.0,>=1.4.0->zenml) (1.24.3)\n",
      "Requirement already satisfied: charset-normalizer<3,>=2 in /usr/local/lib/python3.7/dist-packages (from requests<3.0,>=2.7->analytics-python<2.0.0,>=1.4.0->zenml) (2.1.0)\n",
      "Requirement already satisfied: commonmark<0.10.0,>=0.9.0 in /usr/local/lib/python3.7/dist-packages (from rich[jupyter]<13.0.0,>=12.0.0->zenml) (0.9.1)\n",
      "Requirement already satisfied: ipywidgets<8.0.0,>=7.5.1 in /usr/local/lib/python3.7/dist-packages (from rich[jupyter]<13.0.0,>=12.0.0->zenml) (7.7.1)\n",
      "Requirement already satisfied: widgetsnbextension~=3.6.0 in /usr/local/lib/python3.7/dist-packages (from ipywidgets<8.0.0,>=7.5.1->rich[jupyter]<13.0.0,>=12.0.0->zenml) (3.6.1)\n",
      "Requirement already satisfied: ipykernel>=4.5.1 in /usr/local/lib/python3.7/dist-packages (from ipywidgets<8.0.0,>=7.5.1->rich[jupyter]<13.0.0,>=12.0.0->zenml) (5.3.4)\n",
      "Requirement already satisfied: jupyterlab-widgets>=1.0.0 in /usr/local/lib/python3.7/dist-packages (from ipywidgets<8.0.0,>=7.5.1->rich[jupyter]<13.0.0,>=12.0.0->zenml) (3.0.2)\n",
      "Requirement already satisfied: ipython-genutils~=0.2.0 in /usr/local/lib/python3.7/dist-packages (from ipywidgets<8.0.0,>=7.5.1->rich[jupyter]<13.0.0,>=12.0.0->zenml) (0.2.0)\n",
      "Requirement already satisfied: ipython>=4.0.0 in /usr/local/lib/python3.7/dist-packages (from ipywidgets<8.0.0,>=7.5.1->rich[jupyter]<13.0.0,>=12.0.0->zenml) (7.9.0)\n",
      "Requirement already satisfied: jedi>=0.10 in /usr/local/lib/python3.7/dist-packages (from ipython>=4.0.0->ipywidgets<8.0.0,>=7.5.1->rich[jupyter]<13.0.0,>=12.0.0->zenml) (0.18.1)\n",
      "Requirement already satisfied: decorator in /usr/local/lib/python3.7/dist-packages (from ipython>=4.0.0->ipywidgets<8.0.0,>=7.5.1->rich[jupyter]<13.0.0,>=12.0.0->zenml) (4.4.2)\n",
      "Requirement already satisfied: pickleshare in /usr/local/lib/python3.7/dist-packages (from ipython>=4.0.0->ipywidgets<8.0.0,>=7.5.1->rich[jupyter]<13.0.0,>=12.0.0->zenml) (0.7.5)\n",
      "Requirement already satisfied: backcall in /usr/local/lib/python3.7/dist-packages (from ipython>=4.0.0->ipywidgets<8.0.0,>=7.5.1->rich[jupyter]<13.0.0,>=12.0.0->zenml) (0.2.0)\n",
      "Requirement already satisfied: pexpect in /usr/local/lib/python3.7/dist-packages (from ipython>=4.0.0->ipywidgets<8.0.0,>=7.5.1->rich[jupyter]<13.0.0,>=12.0.0->zenml) (4.8.0)\n",
      "Requirement already satisfied: prompt-toolkit<2.1.0,>=2.0.0 in /usr/local/lib/python3.7/dist-packages (from ipython>=4.0.0->ipywidgets<8.0.0,>=7.5.1->rich[jupyter]<13.0.0,>=12.0.0->zenml) (2.0.10)\n",
      "Requirement already satisfied: parso<0.9.0,>=0.8.0 in /usr/local/lib/python3.7/dist-packages (from jedi>=0.10->ipython>=4.0.0->ipywidgets<8.0.0,>=7.5.1->rich[jupyter]<13.0.0,>=12.0.0->zenml) (0.8.3)\n",
      "Requirement already satisfied: wcwidth in /usr/local/lib/python3.7/dist-packages (from prompt-toolkit<2.1.0,>=2.0.0->ipython>=4.0.0->ipywidgets<8.0.0,>=7.5.1->rich[jupyter]<13.0.0,>=12.0.0->zenml) (0.2.5)\n",
      "Requirement already satisfied: sqlalchemy2-stubs in /usr/local/lib/python3.7/dist-packages (from sqlmodel<0.1.0,>=0.0.6->zenml) (0.0.2a25)\n",
      "Requirement already satisfied: SQLAlchemy<1.5.0,>=1.4.17 in /usr/local/lib/python3.7/dist-packages (from sqlmodel<0.1.0,>=0.0.6->zenml) (1.4.40)\n",
      "Requirement already satisfied: greenlet!=0.4.17 in /usr/local/lib/python3.7/dist-packages (from SQLAlchemy<1.5.0,>=1.4.17->sqlmodel<0.1.0,>=0.0.6->zenml) (1.1.2)\n",
      "Requirement already satisfied: notebook>=4.4.1 in /usr/local/lib/python3.7/dist-packages (from widgetsnbextension~=3.6.0->ipywidgets<8.0.0,>=7.5.1->rich[jupyter]<13.0.0,>=12.0.0->zenml) (5.3.1)\n",
      "Requirement already satisfied: terminado>=0.8.1 in /usr/local/lib/python3.7/dist-packages (from notebook>=4.4.1->widgetsnbextension~=3.6.0->ipywidgets<8.0.0,>=7.5.1->rich[jupyter]<13.0.0,>=12.0.0->zenml) (0.13.3)\n",
      "Requirement already satisfied: Send2Trash in /usr/local/lib/python3.7/dist-packages (from notebook>=4.4.1->widgetsnbextension~=3.6.0->ipywidgets<8.0.0,>=7.5.1->rich[jupyter]<13.0.0,>=12.0.0->zenml) (1.8.0)\n",
      "Requirement already satisfied: ptyprocess in /usr/local/lib/python3.7/dist-packages (from terminado>=0.8.1->notebook>=4.4.1->widgetsnbextension~=3.6.0->ipywidgets<8.0.0,>=7.5.1->rich[jupyter]<13.0.0,>=12.0.0->zenml) (0.7.0)\n",
      "Requirement already satisfied: webencodings in /usr/local/lib/python3.7/dist-packages (from bleach->nbconvert==6.4.4->zenml) (0.5.1)\n",
      "INFO:numexpr.utils:NumExpr defaulting to 2 threads.\n",
      "\u001b[2K\u001b[32m⠸\u001b[0m Installing integrations...\n",
      "\u001b[1A\u001b[2KLooking in indexes: https://pypi.org/simple, https://us-python.pkg.dev/colab-wheels/public/simple/\n",
      "Requirement already satisfied: pyparsing==2.4.2 in /usr/local/lib/python3.7/dist-packages (2.4.2)\n"
     ]
    },
    {
     "data": {
      "text/plain": [
       "{'status': 'ok', 'restart': True}"
      ]
     },
     "execution_count": 8,
     "metadata": {},
     "output_type": "execute_result"
    }
   ],
   "source": [
    "%pip install zenml\n",
    "!zenml integration install sklearn -y\n",
    "%pip install pyparsing==2.4.2  # required for Colab\n",
    "\n",
    "import IPython\n",
    "\n",
    "# automatically restart kernel\n",
    "IPython.Application.instance().kernel.do_shutdown(restart=True)"
   ]
  },
  {
   "cell_type": "markdown",
   "metadata": {
    "id": "c9XG0yamkIZf"
   },
   "source": [
    "ZenML Setup:"
   ]
  },
  {
   "cell_type": "code",
   "execution_count": 1,
   "metadata": {
    "id": "QLkGyOv0Zama"
   },
   "outputs": [],
   "source": [
    "!rm -rf .zen"
   ]
  },
  {
   "cell_type": "code",
   "execution_count": 2,
   "metadata": {
    "colab": {
     "base_uri": "https://localhost:8080/"
    },
    "id": "ldQRCf0LZdla",
    "outputId": "f68dab28-4e72-4d30-a14a-84741d7838da"
   },
   "outputs": [
    {
     "name": "stdout",
     "output_type": "stream",
     "text": [
      "INFO:numexpr.utils:NumExpr defaulting to 2 threads.\n",
      "\u001b[?25l\u001b[32m⠋\u001b[0m Initializing ZenML repository at /content.\n",
      "\u001b[2K\u001b[1A\u001b[2K\u001b[32m⠙\u001b[0m Initializing ZenML repository at /content.\n",
      "\u001b[2K\u001b[1A\u001b[2K\u001b[32m⠹\u001b[0m Initializing ZenML repository at /content.\n",
      "\u001b[2K\u001b[1A\u001b[2K\u001b[2;36mZenML repository initialized at \u001b[0m\u001b[2;35m/\u001b[0m\u001b[2;95mcontent.\u001b[0m\n",
      "\u001b[2;32m⠹\u001b[0m\u001b[2;36m \u001b[0m\u001b[2;36mInitializing ZenML repository at /content.\u001b[0m\n",
      "\u001b[2K\u001b[1A\u001b[2K\u001b[32m⠹\u001b[0m Initializing ZenML repository at /content.\n",
      "\n",
      "\u001b[1A\u001b[2K\u001b[1A\u001b[2K\u001b[2;36mThe local active profile was initialized to \u001b[0m\u001b[2;32m'default'\u001b[0m\u001b[2;36m and the local active stack\u001b[0m\n",
      "\u001b[2;36mto \u001b[0m\u001b[2;32m'default'\u001b[0m\u001b[2;36m. This local configuration will only take effect when you're running\u001b[0m\n",
      "\u001b[2;36mZenML from the initialized repository root, or from a subdirectory. For more \u001b[0m\n",
      "\u001b[2;36minformation on profile and stack configuration, please visit \u001b[0m\n",
      "\u001b[2;4;94mhttps://docs.zenml.io/developer-guide/stacks-profiles-repositories.\u001b[0m\n"
     ]
    }
   ],
   "source": [
    "!zenml init"
   ]
  },
  {
   "cell_type": "code",
   "execution_count": null,
   "metadata": {
    "id": "-YmlZ3meZe05"
   },
   "outputs": [],
   "source": [
    "!zenml profile create zenbytes"
   ]
  },
  {
   "cell_type": "code",
   "execution_count": 3,
   "metadata": {
    "colab": {
     "base_uri": "https://localhost:8080/"
    },
    "id": "o4Ocmpr-ZghR",
    "outputId": "7bdd2021-c590-4de7-8f7a-a4f62f545cd2"
   },
   "outputs": [
    {
     "name": "stdout",
     "output_type": "stream",
     "text": [
      "INFO:numexpr.utils:NumExpr defaulting to 2 threads.\n",
      "\u001b[2;36mRunning with active profile: \u001b[0m\u001b[2;32m'default'\u001b[0m\u001b[2;36m \u001b[0m\u001b[1;2;36m(\u001b[0m\u001b[2;36mlocal\u001b[0m\u001b[1;2;36m)\u001b[0m\n",
      "\u001b[?25l\u001b[2;36mActive profile changed to: \u001b[0m\u001b[2;32m'zenbytes'\u001b[0m\n",
      "\u001b[2K\u001b[32m⠋\u001b[0m Setting the active profile to 'zenbytes'...\n",
      "\u001b[1A\u001b[2K"
     ]
    }
   ],
   "source": [
    "!zenml profile set zenbytes"
   ]
  },
  {
   "cell_type": "code",
   "execution_count": 4,
   "metadata": {
    "colab": {
     "base_uri": "https://localhost:8080/"
    },
    "id": "8MGwLrvzZgyR",
    "outputId": "5953f9d6-ed05-4647-ebcb-464d78bf22c7"
   },
   "outputs": [
    {
     "name": "stdout",
     "output_type": "stream",
     "text": [
      "INFO:numexpr.utils:NumExpr defaulting to 2 threads.\n",
      "\u001b[2;36mRunning with active profile: \u001b[0m\u001b[2;32m'zenbytes'\u001b[0m\u001b[2;36m \u001b[0m\u001b[1;2;36m(\u001b[0m\u001b[2;36mlocal\u001b[0m\u001b[1;2;36m)\u001b[0m\n",
      "\u001b[2K\u001b[2;36mActive stack set to: \u001b[0m\u001b[2;32m'default'\u001b[0m\n",
      "\u001b[2K\u001b[32m⠹\u001b[0m Setting the active stack to 'default'...\n",
      "\u001b[1A\u001b[2K"
     ]
    }
   ],
   "source": [
    "!zenml stack set default"
   ]
  },
  {
   "cell_type": "code",
   "execution_count": 5,
   "metadata": {
    "colab": {
     "base_uri": "https://localhost:8080/"
    },
    "id": "jxT6YTo8Zg65",
    "outputId": "dbc67ae0-569d-4bdc-da17-325613064e64"
   },
   "outputs": [
    {
     "name": "stdout",
     "output_type": "stream",
     "text": [
      "INFO:numexpr.utils:NumExpr defaulting to 2 threads.\n",
      "\u001b[2;36mRunning with active profile: \u001b[0m\u001b[2;32m'zenbytes'\u001b[0m\u001b[2;36m \u001b[0m\u001b[1;2;36m(\u001b[0m\u001b[2;36mlocal\u001b[0m\u001b[1;2;36m)\u001b[0m\n",
      "\u001b[?25l\u001b[2;36mThe active stack is: \u001b[0m\u001b[2;32m'default'\u001b[0m\n",
      "\u001b[2K\u001b[32m⠋\u001b[0m Getting the active stack...\n",
      "\u001b[1A\u001b[2K"
     ]
    }
   ],
   "source": [
    "!zenml stack get"
   ]
  },
  {
   "cell_type": "markdown",
   "metadata": {
    "id": "2sJ5senekQye"
   },
   "source": [
    "Defining house prediction using linear regression pipeline with ZenML:"
   ]
  },
  {
   "cell_type": "code",
   "execution_count": 26,
   "metadata": {
    "id": "-AfRSSgkbooU"
   },
   "outputs": [],
   "source": [
    "from zenml.steps import step, Output\n",
    "import os\n",
    "import numpy as np\n",
    "import pandas as pd\n",
    "import matplotlib.pyplot as plt\n",
    "from pandas.plotting import scatter_matrix\n",
    "from sklearn.model_selection import train_test_split\n",
    "from sklearn import linear_model\n",
    "from sklearn.preprocessing import LabelEncoder\n",
    "from sklearn.linear_model._base import LinearRegression\n",
    "%matplotlib inline"
   ]
  },
  {
   "cell_type": "code",
   "execution_count": 7,
   "metadata": {
    "id": "v02zZOGg2vnS"
   },
   "outputs": [],
   "source": [
    "@step\n",
    "def data_loading() -> Output(\n",
    "    dataset=pd.core.frame.DataFrame,\n",
    "    ):\n",
    "    \"\"\"Load the data\"\"\"\n",
    "    dataset = pd.read_csv(\"housePrice.csv\",header= 0 , sep=',')\n",
    "    return dataset"
   ]
  },
  {
   "cell_type": "code",
   "execution_count": 8,
   "metadata": {
    "id": "gJMVBPyF20Qa"
   },
   "outputs": [],
   "source": [
    "@step\n",
    "def data_preprocessing(dataset: pd.core.frame.DataFrame) -> pd.core.frame.DataFrame:\n",
    "    \"\"\"Preparing the data\"\"\"\n",
    "    dataset = dataset.dropna(subset =[\"Address\"])\n",
    "    dataset['Area'] = dataset['Area'].str.replace(',','')\n",
    "    dataset['Area'] = dataset['Area'].apply(lambda x : float(x[:]))\n",
    "    dataset = dataset[dataset['Area'] < 1000]\n",
    "    dataset = dataset[dataset['Parking'].notnull()].copy()\n",
    "    dataset['Parking'] = dataset['Parking'].astype(int)\n",
    "    dataset = dataset[dataset['Warehouse'].notnull()].copy()\n",
    "    dataset['Warehouse'] = dataset['Warehouse'].astype(int)\n",
    "    dataset = dataset[dataset['Elevator'].notnull()].copy()\n",
    "    dataset['Elevator'] = dataset['Elevator'].astype(int)\n",
    "    encoder =LabelEncoder()\n",
    "    dataset['Address'] = encoder.fit_transform(dataset.Address)\n",
    "    data_for_set_model =dataset.copy()\n",
    "    mean =(data_for_set_model.groupby('Address').mean()['Area'])\n",
    "    mean_price =data_for_set_model.groupby('Address').mean()['Price']\n",
    "    data_for_set_model['The_value_of_each_address'] =(data_for_set_model['Address'].map(mean_price))/(data_for_set_model['Address'].map(mean))\n",
    "    data_for_set_model[\"Room_pre_Area\"] =data_for_set_model['Room']/data_for_set_model[\"Area\"]\n",
    "    return data_for_set_model"
   ]
  },
  {
   "cell_type": "code",
   "execution_count": 18,
   "metadata": {
    "id": "EgMGX_Jk5Bqg"
   },
   "outputs": [],
   "source": [
    "@step\n",
    "def split_the_data(data_for_set_model: pd.core.frame.DataFrame) -> Output(\n",
    "    train_set=pd.core.frame.DataFrame,\n",
    "    test_set=pd.core.frame.DataFrame,\n",
    "    ):\n",
    "    \"\"\"Split the data into train and test\"\"\"\n",
    "    data=data_for_set_model.copy()\n",
    "    train_set , test_set =train_test_split(data , test_size =0.2 , random_state =42)\n",
    "    return train_set,test_set"
   ]
  },
  {
   "cell_type": "code",
   "execution_count": 27,
   "metadata": {
    "id": "ElkPnvridqyN"
   },
   "outputs": [],
   "source": [
    "@step\n",
    "def model_training(train_set:pd.core.frame.DataFrame,)-> LinearRegression:\n",
    "    \"\"\"Train the Linear regression model\"\"\"\n",
    "    regr = linear_model.LinearRegression()\n",
    "    x = np.asanyarray(train_set[['The_value_of_each_address','Room','Parking', 'Area']])\n",
    "    y = np.asanyarray(train_set[['Price']])\n",
    "    regr.fit (x, y)\n",
    "    print ('Coefficients: ', regr.coef_)\n",
    "    print('Intercept: ', regr.intercept_)\n",
    "    return regr"
   ]
  },
  {
   "cell_type": "code",
   "execution_count": 28,
   "metadata": {
    "id": "65N9l_H1eM97"
   },
   "outputs": [],
   "source": [
    "@step\n",
    "def model_inference(test_set:pd.core.frame.DataFrame, regr: LinearRegression) -> float:\n",
    "    \"\"\"Predict the model\"\"\"\n",
    "    y_hat =regr.predict(test_set[['The_value_of_each_address','Room','Parking','Area']])\n",
    "    x =np.asanyarray(test_set[['The_value_of_each_address','Room','Parking','Area']])\n",
    "    y =np.asanyarray(test_set[['Price']])\n",
    "    print(\"Residual sum of squares: %.2f\" % np.mean((y_hat - y) ** 2))\n",
    "    print('Variance score: %.2f' % regr.score(x, y))\n",
    "    return regr.score(x, y)"
   ]
  },
  {
   "cell_type": "code",
   "execution_count": 29,
   "metadata": {
    "id": "a-6YQJq2UNLB"
   },
   "outputs": [],
   "source": [
    "from zenml.pipelines import pipeline\n",
    "\n",
    "@pipeline\n",
    "def house_prediction_pipeline(load, prepare, split, train, predict):\n",
    "    \"\"\"Links all the steps together in a pipeline\"\"\"\n",
    "    dataset = load()\n",
    "    data_for_set_model = prepare(dataset)\n",
    "    train_set,test_set = split(data_for_set_model)\n",
    "    model = train(train_set)\n",
    "    score = predict(test_set, model)"
   ]
  },
  {
   "cell_type": "markdown",
   "metadata": {
    "id": "e7undKfxkfn_"
   },
   "source": [
    "Running zenML Pipeline:"
   ]
  },
  {
   "cell_type": "code",
   "execution_count": 30,
   "metadata": {
    "id": "ITiuvjSYfLza"
   },
   "outputs": [],
   "source": [
    "house_prediction_instance = house_prediction_pipeline(\n",
    "    load=data_loading(), prepare=data_preprocessing(), split=split_the_data(), train=model_training(), predict=model_inference()\n",
    ")"
   ]
  },
  {
   "cell_type": "code",
   "execution_count": 31,
   "metadata": {
    "colab": {
     "base_uri": "https://localhost:8080/"
    },
    "id": "1Emj6pv3fei6",
    "outputId": "d8a7389c-ee7b-4640-90b0-b75d90930131"
   },
   "outputs": [
    {
     "name": "stdout",
     "output_type": "stream",
     "text": [
      "\u001b[1;35mCreating run for pipeline: \u001b[0m\u001b[33mhouse_predictio_pipeline\u001b[1;35m\u001b[0m\n",
      "\u001b[1;35mCache enabled for pipeline \u001b[0m\u001b[33mhouse_predictio_pipeline\u001b[1;35m\u001b[0m\n",
      "\u001b[1;35mUsing stack \u001b[0m\u001b[33mdefault\u001b[1;35m to run pipeline \u001b[0m\u001b[33mhouse_predictio_pipeline\u001b[1;35m...\u001b[0m\n",
      "\u001b[1;35mStep \u001b[0m\u001b[33mdata_loading\u001b[1;35m has started.\u001b[0m\n",
      "\u001b[1;35mUsing cached version of \u001b[0m\u001b[33mdata_loading\u001b[1;35m.\u001b[0m\n",
      "\u001b[1;35mStep \u001b[0m\u001b[33mdata_loading\u001b[1;35m has finished in 0.047s.\u001b[0m\n",
      "\u001b[1;35mStep \u001b[0m\u001b[33mdata_preprocessing\u001b[1;35m has started.\u001b[0m\n",
      "\u001b[1;35mUsing cached version of \u001b[0m\u001b[33mdata_preprocessing\u001b[1;35m.\u001b[0m\n",
      "\u001b[1;35mStep \u001b[0m\u001b[33mdata_preprocessing\u001b[1;35m has finished in 0.042s.\u001b[0m\n",
      "\u001b[1;35mStep \u001b[0m\u001b[33msplit_the_data\u001b[1;35m has started.\u001b[0m\n",
      "\u001b[1;35mUsing cached version of \u001b[0m\u001b[33msplit_the_data\u001b[1;35m.\u001b[0m\n",
      "\u001b[1;35mStep \u001b[0m\u001b[33msplit_the_data\u001b[1;35m has finished in 0.041s.\u001b[0m\n",
      "\u001b[1;35mStep \u001b[0m\u001b[33mmodel_training\u001b[1;35m has started.\u001b[0m\n",
      "Coefficients:  [[ 1.29351109e+02  5.27371860e+08 -1.41202432e+09  6.04167129e+07]]\n",
      "Intercept:  [-6.56554883e+09]\n",
      "\u001b[1;35mStep \u001b[0m\u001b[33mmodel_training\u001b[1;35m has finished in 0.080s.\u001b[0m\n",
      "\u001b[1;35mStep \u001b[0m\u001b[33mmodel_inference\u001b[1;35m has started.\u001b[0m\n",
      "Residual sum of squares: 23550024605442904064.00\n",
      "Variance score: 0.69\n",
      "\u001b[1;35mStep \u001b[0m\u001b[33mmodel_inference\u001b[1;35m has finished in 0.075s.\u001b[0m\n",
      "\u001b[1;35mPipeline run \u001b[0m\u001b[33mhouse_predictio_pipeline-25_Aug_22-12_31_45_178152\u001b[1;35m has finished in 0.439s.\u001b[0m\n"
     ]
    },
    {
     "name": "stderr",
     "output_type": "stream",
     "text": [
      "/usr/local/lib/python3.7/dist-packages/sklearn/base.py:444: UserWarning: X has feature names, but LinearRegression was fitted without feature names\n",
      "  f\"X has feature names, but {self.__class__.__name__} was fitted without\"\n"
     ]
    }
   ],
   "source": [
    "house_prediction_instance.run()"
   ]
  }
 ],
 "metadata": {
  "accelerator": "GPU",
  "colab": {
   "collapsed_sections": [],
   "name": "House_Prediction_Regression_pipeline_with_zenml.ipynb",
   "provenance": []
  },
  "gpuClass": "standard",
  "kernelspec": {
   "display_name": "Python 3",
   "language": "python",
   "name": "python3"
  },
  "language_info": {
   "codemirror_mode": {
    "name": "ipython",
    "version": 3
   },
   "file_extension": ".py",
   "mimetype": "text/x-python",
   "name": "python",
   "nbconvert_exporter": "python",
   "pygments_lexer": "ipython3",
   "version": "3.8.8"
  }
 },
 "nbformat": 4,
 "nbformat_minor": 1
}
